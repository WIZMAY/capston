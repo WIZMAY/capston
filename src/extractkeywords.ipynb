{
 "cells": [
  {
   "cell_type": "code",
   "execution_count": 1,
   "id": "a5b18cc2",
   "metadata": {},
   "outputs": [],
   "source": [
    "from konlpy.tag import Mecab\n",
    "mecab = Mecab(\"C:/mecab/mecab-ko-dic\")"
   ]
  },
  {
   "cell_type": "code",
   "execution_count": 2,
   "id": "2d1b423f",
   "metadata": {},
   "outputs": [],
   "source": [
    "import pandas as pd\n",
    "\n",
    "# 설문지 파일 로드\n",
    "surveypaper_content = []\n",
    "with open(\"C:/Users/pranst/Desktop/설문지데이터셋/건강/2016년 대학교 금연사업 운영평가.txt\", 'r', encoding='UTF8') as file:\n",
    "    surveypaper_content = file.readlines()\n",
    "surveypaper_content = [line.rstrip('\\n') for line in surveypaper_content]\n",
    "file.close()"
   ]
  },
  {
   "cell_type": "code",
   "execution_count": 3,
   "id": "88c54057",
   "metadata": {},
   "outputs": [],
   "source": [
    "# Mecab.noun을 사용하여 로드한 설문지 파일에서 단어만 추출\n",
    "surveylist_total = []\n",
    "for i in range(len(surveypaper_content)):\n",
    "    surveylist_total+=list(mecab.nouns(surveypaper_content[i]))"
   ]
  },
  {
   "cell_type": "code",
   "execution_count": 4,
   "id": "834612b6",
   "metadata": {},
   "outputs": [],
   "source": [
    "# 미리 만들어 둔 불용어 모음 파일을 로드하여 불용어 리스트 생성\n",
    "stopwords = []\n",
    "with open(\"C:/Users/pranst/stop_words/stopwords_ko.txt\", 'r', encoding='UTF8') as file:\n",
    "    stopwords = file.readlines()\n",
    "stopwords = [line.rstrip('\\n') for line in stopwords]\n",
    "file.close()"
   ]
  },
  {
   "cell_type": "code",
   "execution_count": 5,
   "id": "2be3ca39",
   "metadata": {},
   "outputs": [],
   "source": [
    "# 불용어 리스트와 설문지 단어 모음을 비교하여 불용어 제거\n",
    "surveylisttotal_modified = []\n",
    "for i in range(len(surveylist_total)):\n",
    "    if surveylist_total[i] not in stopwords:\n",
    "        surveylisttotal_modified.append(surveylist_total[i])"
   ]
  },
  {
   "cell_type": "code",
   "execution_count": 6,
   "id": "a204773c",
   "metadata": {},
   "outputs": [
    {
     "data": {
      "text/plain": [
       "담배      45\n",
       "금연      32\n",
       "흡연      19\n",
       "학년      17\n",
       "생각      11\n",
       "사람      10\n",
       "건강      10\n",
       "학교       9\n",
       "교육       7\n",
       "초등       7\n",
       "과거       6\n",
       "응답       6\n",
       "광고       5\n",
       "도움       5\n",
       "필요       5\n",
       "포스터      5\n",
       "개비       4\n",
       "설정       4\n",
       "공공장소     4\n",
       "개월       4\n",
       "dtype: int64"
      ]
     },
     "execution_count": 6,
     "metadata": {},
     "output_type": "execute_result"
    }
   ],
   "source": [
    "# 키워드 후보 추출\n",
    "word_list = pd.Series(surveylisttotal_modified)\n",
    "result = word_list.value_counts().head(20)\n",
    "result"
   ]
  }
 ],
 "metadata": {
  "kernelspec": {
   "display_name": "Python 3",
   "language": "python",
   "name": "python3"
  },
  "language_info": {
   "codemirror_mode": {
    "name": "ipython",
    "version": 3
   },
   "file_extension": ".py",
   "mimetype": "text/x-python",
   "name": "python",
   "nbconvert_exporter": "python",
   "pygments_lexer": "ipython3",
   "version": "3.7.10"
  }
 },
 "nbformat": 4,
 "nbformat_minor": 5
}
